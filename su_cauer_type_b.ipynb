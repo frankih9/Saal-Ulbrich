{
 "cells": [
  {
   "cell_type": "markdown",
   "metadata": {
    "deletable": true,
    "editable": true
   },
   "source": [
    "## Synthesis example for _EVEN_ order elliptic lowpass filters with _UNEQUAL_ terminations\n",
    "Based on the paper ***_On the Design of Filters by Synthesis_*** by Saal and Ulbrich   \n",
    "https://ieeexplore.ieee.org/document/1086481   \n",
    "**_Warning, the notations used in this paper is dated!_**  \n",
    "  \n",
    "### _Low-Pass_ C 06 20 41 b\n",
    "*This filter is tabulated on page 318*\n",
    "\n",
    "\n",
    "$n = 6$  \n",
    "${\\rho} = 20\\ \\%$  \n",
    "${\\theta} = 41$ &deg;\n",
    "\n",
    "For even order lowpass filters, note that ${\\Omega}_{s}\\ {\\neq}\\ \\displaystyle \\frac{1}{sin{\\theta}}$.\n",
    "\n",
    "The cutoff frequency (equi-ripple) ${\\Omega}_{c}$ is set to 1 as usual."
   ]
  },
  {
   "cell_type": "code",
   "execution_count": 1,
   "metadata": {
    "collapsed": false,
    "deletable": true,
    "editable": true
   },
   "outputs": [],
   "source": [
    "import numpy as np\n",
    "#np.seterr(divide='ignore', invalid='ignore')\n",
    "\n",
    "import scipy.special as ss\n",
    "import sympy as sp\n",
    "import matplotlib.pyplot as plt\n",
    "import pandas as pd"
   ]
  },
  {
   "cell_type": "code",
   "execution_count": 2,
   "metadata": {
    "collapsed": false,
    "deletable": true,
    "editable": true
   },
   "outputs": [],
   "source": [
    "# number of section\n",
    "n = 6  \n",
    "\n",
    "# reflection coefficient of filter\n",
    "p = 0.2   \n",
    "\n",
    "# ws=2.790428, normalized stopband frequency\n",
    "theta_deg = 41  \n",
    "\n",
    "# convert theta to radians for later calculations\n",
    "theta = theta_deg*np.pi/180  \n",
    "\n",
    "#print(\"n = \", n)\n",
    "#print(\"p = \", p)\n",
    "#print(\"theta = \", theta_deg, \"deg\")"
   ]
  },
  {
   "cell_type": "markdown",
   "metadata": {
    "deletable": true,
    "editable": true
   },
   "source": [
    "___"
   ]
  },
  {
   "cell_type": "markdown",
   "metadata": {
    "deletable": true,
    "editable": true
   },
   "source": [
    "### Calculate ${a}_{v}$\n",
    "Calculate ${a}_{v}$ and ${a}_{n}$ using _equation (38)_ on page 294.  \n",
    "\n",
    "${a}_{v} = \\sqrt{sin{\\theta}}  \\cdot sn\\bigg(\\displaystyle\\frac{v}{n}K;{\\theta}\\bigg)\\;\\;\\;\\;\\;\\;v=1,\\;2,\\;...,\\;n-1$ \n",
    "\n",
    "${a}_{n} = \\sqrt{sin{\\theta}}$  \n",
    "\n",
    "The variable $K$ is the complete elliptic integral of the first kind with the modulus $k=sin{\\theta}$.  \n",
    "The function $sn(u,m)$ is the Jacobian elliptic function.  \n",
    "\n"
   ]
  },
  {
   "cell_type": "code",
   "execution_count": 3,
   "metadata": {
    "collapsed": false,
    "deletable": true,
    "editable": true
   },
   "outputs": [],
   "source": [
    "#In scipy library: ellipk(u,m) is the complete elliptic integral of the first kind where m = k^2 or sin^2(theta)\n",
    "K = ss.ellipk(np.sin(theta)**2)\n",
    "\n",
    "#a[0] is filled with a dummy 1 so indices of a[] complies with Saal & Ulbrich(SU)\n",
    "a = np.array([1])   \n",
    "for v in range(1, n):    \n",
    "    u = K*v/n\n",
    "    #In scipy library: ellipj(u,m) is the Jacobian elliptic function where m = sin^2(theta)\n",
    "    jac_ell = ss.ellipj(u, np.sin(theta)**2)\n",
    "    sn = jac_ell[0]\n",
    "    a = np.append(a, np.sqrt(np.sin(theta))*sn)\n",
    "    \n",
    "#Append a[n] into the array a.\n",
    "a = np.append(a, np.sqrt(np.sin(theta)))\n",
    "\n",
    "#print(a[1:])"
   ]
  },
  {
   "cell_type": "markdown",
   "metadata": {
    "deletable": true,
    "editable": true
   },
   "source": [
    "___"
   ]
  },
  {
   "cell_type": "markdown",
   "metadata": {
    "deletable": true,
    "editable": true
   },
   "source": [
    "### Calculate ${b}_{v,P}$, ${b}_{v,S}$, ${\\Delta}_{b}$, ${\\Omega}^{'}_{c}$, and ${\\Omega}_{s}$\n",
    "Once ${a}_{v}$ are found, calculate the following:\n",
    "\n",
    "${b}_{v,P} = \\displaystyle \\sqrt{\\frac{\\omega}{{a}_{v}^{-2} - {a}_{1}^{2}} }\\;\\;\\;\\;\\;\\;v=1,\\;2,\\;...,\\;n-1$  \n",
    "  \n",
    "${b}_{v,S} = \\displaystyle \\sqrt{\\frac{{a}_{v}^{2} - {a}_{1}^{2}}{\\omega} }\\;\\;\\;\\;\\;\\;v=1,\\;2,\\;...,\\;n-1$ \n",
    "  \n",
    "${\\omega} =\\displaystyle \\sqrt{(1 - {a}_{1}^{2}{a}_{n}^{2}) \\left(1 - \\displaystyle \\frac{{a}_{1}^{2}} {{a}_{n}^{2}}\\right)}$\n",
    "\n",
    "${\\Omega}^{'}_{c} = {b}_{n} = \\sqrt{{a}_{n} \\cdot {a}_{n-1}}$ \n",
    "  \n",
    "${\\Omega}_{s} = \\displaystyle \\frac{1}{({\\Omega}^{'}_{c})^{2}}$ \n",
    "\n",
    "See _equation (44)_ on pages 295-296.   \n"
   ]
  },
  {
   "cell_type": "code",
   "execution_count": 4,
   "metadata": {
    "collapsed": false,
    "deletable": true,
    "editable": true
   },
   "outputs": [],
   "source": [
    "#EQN(44) for n even case b page 295-296\n",
    "w = np.sqrt((1-(a[1]**2)*(a[n]**2))*(1-(a[1]/a[n])**2))\n",
    "    \n",
    "bP = np.array([1])\n",
    "bS = np.array([1])\n",
    "for v in range(1, n):\n",
    "    bP = np.append(bP, np.sqrt(w/(a[v]**-2 - a[1]**2)))\n",
    "    bS = np.append(bS, np.sqrt((a[v]**2 - a[1]**2)/w))\n",
    "\n",
    "bn = np.sqrt(a[n]*a[n-1])\n",
    "\n",
    "wc_pb = bn\n",
    "ws = 1/wc_pb**2\n",
    "\n",
    "#print(bP[1:])\n",
    "#print(bS[1:])\n",
    "#print(bn)\n",
    "#print(ws)"
   ]
  },
  {
   "cell_type": "markdown",
   "metadata": {
    "deletable": true,
    "editable": true
   },
   "source": [
    "Calculate  $m$ using _equations (37)_ page 294 for even $n$. \n",
    "  \n",
    "$m = \\displaystyle\\frac{n}{2}$  \n",
    "  \n",
    "Calculate $m$ and ${\\Delta}_{b}$ using _equation (44)_ on page 296.\n",
    "\n",
    "${\\Delta}_{b} = \\displaystyle \\prod_{{\\mu} = 1}^{m} {b}^{2}_{2{\\mu} - 1,P}$"
   ]
  },
  {
   "cell_type": "code",
   "execution_count": 5,
   "metadata": {
    "collapsed": false,
    "deletable": true,
    "editable": true
   },
   "outputs": [],
   "source": [
    "#m calculation, see EQN(37) p294\n",
    "#n is even\n",
    "m = n//2 \n",
    "       \n",
    "#EQN(44) for n even\n",
    "delta_b = 1\n",
    "for u in range(1, m+1):\n",
    "    delta_b *= bP[2*u-1]**2    \n",
    "\n",
    "#print(delta_b)"
   ]
  },
  {
   "cell_type": "markdown",
   "metadata": {
    "deletable": true,
    "editable": true
   },
   "source": [
    "___"
   ]
  },
  {
   "cell_type": "markdown",
   "metadata": {
    "deletable": true,
    "editable": true
   },
   "source": [
    "### Calculate ${\\Delta}_{a}$ and ${A}_{s}$\n",
    "The rejection ${A}_{s}$ in $dB$ can be calculated according to _equation (40)_ on page 294.  ${\\Delta}$ should be replaced with ${\\Delta}_{a}$ to clarify that the ${\\Delta}$ used is from _equation (39)_ on page 294 for the even $n$ case.\n",
    "\n",
    "${A}_{s} = 10\\log_{10} \\displaystyle \\left[1+\\frac{1}{\\Delta^{4}_{a}({\\rho}^{-2}-1)}\\right]$  \n",
    "  \n",
    "${\\Delta}_{a} = \\displaystyle \\prod_{{\\mu} = 1}^{m} {a}^{2}_{2{\\mu} - 1}$"
   ]
  },
  {
   "cell_type": "code",
   "execution_count": 6,
   "metadata": {
    "collapsed": false,
    "deletable": true,
    "editable": true
   },
   "outputs": [],
   "source": [
    "#See EQN(39) page 294 for delta_a even.\n",
    "delta_a = 1\n",
    "for u in range(1, m+1):\n",
    "    delta_a *= a[2*u-1]**2\n",
    "\n",
    "#See EQN(40) page 294 for rejection calculation.\n",
    "As = 10*np.log10(1+1/((delta_a**4)*(1/p**2-1))) #dB\n",
    "\n",
    "#print(As)"
   ]
  },
  {
   "cell_type": "markdown",
   "metadata": {
    "deletable": true,
    "editable": true
   },
   "source": [
    "___"
   ]
  },
  {
   "cell_type": "markdown",
   "metadata": {
    "collapsed": true,
    "deletable": true,
    "editable": true
   },
   "source": [
    "### The characteristic function $K({\\lambda})$\n",
    "Construct the characteristic polynomial $K({\\lambda})$.  See _equation (43)_ on page 295.  \n",
    "\n",
    "$K({\\lambda}) = \\displaystyle \\frac{{\\lambda} + {b}^{2}_{1,P}}{{c}^{-1}} \\cdot \\prod_{{\\mu} = 2}^{m} \\displaystyle \\frac{{\\lambda}^{2}+{{b}^{2}_{2{\\mu}-1,P}}} {{b}^{2}_{2{\\mu}-1,S} \\cdot {\\lambda}^{2}+1}$\n",
    "\n",
    "\n",
    "${c}^{-1} = {\\Delta}_{b}\\sqrt{{\\rho}^{-1} - 1}$\n",
    "\n",
    "\n",
    "The polynomial $K({\\lambda})$ has the numnerator and denominator $F({\\lambda})$ and $P({\\lambda})$ respectively.  See _equation (12)_ on page 286. \n",
    "\n",
    "$K({\\lambda}) = \\displaystyle \\frac{F({\\lambda})} {P({\\lambda})}$"
   ]
  },
  {
   "cell_type": "code",
   "execution_count": 7,
   "metadata": {
    "collapsed": false,
    "deletable": true,
    "editable": true
   },
   "outputs": [],
   "source": [
    "#c calculation from page 304\n",
    "const_c = 1/(delta_b*np.sqrt(1/(p**2)-1))\n",
    "\n",
    "#EQN(43) expand for n even\n",
    "F = np.array([1, 0, (bP[1]**2)])\n",
    "P = np.array([1/const_c])\n",
    "\n",
    "#These are the inverse of the transmission zero frequencies\n",
    "co_tz = np.array([])\n",
    "\n",
    "for u in range(2, m+1):\n",
    "    #form numerator of K(lambda) or F(lambda)\n",
    "    F = np.polymul(F, np.array([1, 0, bP[2*u-1]**2]))\n",
    "        \n",
    "    #form denominator of K(lambda) or P(lambda)\n",
    "    P = np.polymul(P, np.array([bS[2*u-1]**2, 0, 1]))\n",
    "        \n",
    "    #collect the constants bS used in P(lambda)\n",
    "    co_tz = np.append(co_tz, bS[2*u-1])\n",
    "\n",
    "#print(F)\n",
    "#print(P)"
   ]
  },
  {
   "cell_type": "markdown",
   "metadata": {
    "deletable": true,
    "editable": true
   },
   "source": [
    "___"
   ]
  },
  {
   "cell_type": "markdown",
   "metadata": {
    "deletable": true,
    "editable": true
   },
   "source": [
    "### Lowpass filter response using $K({\\lambda})$\n",
    "Once the characteristic polynomial $K({\\lambda})$ has been found,  a plot of the filter response can be generated to check the validity of the calculations.\n",
    "\n",
    "Form polynomial $\\lvert K({\\lambda}) \\rvert ^{2}$, where ${\\lambda} = j{\\Omega}$.        \n",
    "  \n",
    "$\\lvert K({\\lambda}) \\rvert ^{2}=\\displaystyle \\frac{F({\\lambda})F({-\\lambda})} {P({\\lambda})P({-\\lambda})}$   "
   ]
  },
  {
   "cell_type": "code",
   "execution_count": 8,
   "metadata": {
    "collapsed": false,
    "deletable": true,
    "editable": true
   },
   "outputs": [],
   "source": [
    "#Generate F(jw)*F(-jw) and P(jw)*p(-jw) for n even\n",
    "\n",
    "#nX = X(-jw).  Changes sign of coefficients of odd order only.\n",
    "nF = np.copy(F)\n",
    "nP = np.copy(P)\n",
    "\n",
    "#Odd order indexing from penultimate element while stepping by 2 in reverse. \n",
    "nF[-2::-2] = -1*nF[-2::-2]\n",
    "nP[-2::-2] = -1*nP[-2::-2]\n",
    "    \n",
    "FnF = np.polymul(F, nF)\n",
    "PnP = np.polymul(P, nP)\n",
    "\n",
    "#print(FnF)\n",
    "#print(PnP)"
   ]
  },
  {
   "cell_type": "markdown",
   "metadata": {
    "deletable": true,
    "editable": true
   },
   "source": [
    "The $\\lvert S_{21} \\rvert^2$ is related to $\\lvert K({\\lambda}) \\rvert ^{2}$ by the following:\n",
    "\n",
    "$\\lvert S_{21} \\rvert ^2 = \\displaystyle \\frac{1} {1 + \\lvert K({\\lambda}) \\rvert ^{2}}$     \n",
    "  \n",
    "Applying conservation of energy,  \n",
    "  \n",
    "$\\lvert S_{11} \\rvert^2 = 1-\\lvert S_{21} \\rvert ^2$\n",
    "  \n",
    "When evaluating $\\lvert K({\\lambda}) \\rvert ^{2}$, ${\\lambda} = j{\\Omega}$ and ${\\Omega}$ is normalized to ${\\Omega}^{'}_{c}$.  For example, when plotting the value at ${\\Omega} = 1$, $\\lvert K({\\lambda}) \\rvert ^{2}$ should be evaluated for ${\\lambda} = j1 \\cdot {\\Omega}^{'}_{c}$.  "
   ]
  },
  {
   "cell_type": "code",
   "execution_count": 9,
   "metadata": {
    "collapsed": false,
    "deletable": true,
    "editable": true
   },
   "outputs": [],
   "source": [
    "def Plot_S(S11_dB, S21_dB, w, ws, rej_dB, title = '???', fig = 1):\n",
    "    #test plot of transfer function \n",
    "    \n",
    "    #plt.clf()\n",
    "    plt.figure(fig, (10, 6))\n",
    "    plt.plot(w, S21_dB, label = '$|S_{21}|^2$')\n",
    "    plt.plot(w, S11_dB, label = '$|S_{11}|^2$')\n",
    "    plt.legend(loc = 'lower right', shadow=False, fontsize = 'large')\n",
    "    \n",
    "    #Plot stop band limits\n",
    "    As = -1*rej_dB\n",
    "    plt.plot([ws, w[-1]], [As, As], 'g', linestyle=':')\n",
    "    plt.plot([ws, ws], [As, 0], 'g', linestyle=':')\n",
    "    txt = '('+ str(round(ws, 2)) + ', ' + str(np.ceil(As)) + ')' \n",
    "    plt.text(ws + .01*w[-1], round(As,0)+1, txt, fontsize = 12)\n",
    "    \n",
    "    #Limit the lower y-axis to 20dB below the rejection rounded to x10. E.g. 43->50  \n",
    "    plt.axis([0, w[-1], np.floor(As/10)*10-20, 0])\n",
    "    plt.xticks(np.arange(0, w[-1]+1, 1))\n",
    "    \n",
    "    plt.xlabel('${\\Omega}$(rad)', fontsize = 'large')\n",
    "    plt.ylabel('(dB)', fontsize = 'large')\n",
    "    plt.title(title, fontsize = 'large')\n",
    "\n",
    "    plt.grid()\n",
    "    plt.show()"
   ]
  },
  {
   "cell_type": "code",
   "execution_count": 10,
   "metadata": {
    "collapsed": false,
    "deletable": true,
    "editable": true
   },
   "outputs": [
    {
     "data": {
      "image/png": "[encoded data removed]",
      "text/plain": [
       "<Figure size 720x432 with 1 Axes>"
      ]
     },
     "metadata": {},
     "output_type": "display_data"
    }
   ],
   "source": [
    "#Generate the lambdas to be evaluated\n",
    "wstep = .001\n",
    "w = np.arange(wstep, 10, wstep)\n",
    "lamb = 1j*w*wc_pb \n",
    "        \n",
    "Kn2 = np.polyval(FnF,lamb)\n",
    "Kd2 = np.polyval(PnP,lamb) \n",
    "K2 = np.real(Kn2)/np.real(Kd2)\n",
    "\n",
    "S21_2 = 1/(1+K2)\n",
    "S21_dB = 10*np.log10(S21_2)\n",
    "\n",
    "S11_2 =  1-S21_2 \n",
    "S11_dB = 10*np.log10(S11_2)\n",
    "\n",
    "title = 'Filter response from polynomial $K({\\lambda})$'\n",
    "\n",
    "Plot_S(S11_dB, S21_dB, w, ws, As, title)"
   ]
  },
  {
   "cell_type": "markdown",
   "metadata": {
    "deletable": true,
    "editable": true
   },
   "source": [
    "___"
   ]
  },
  {
   "cell_type": "markdown",
   "metadata": {
    "deletable": true,
    "editable": true
   },
   "source": [
    "### The Hurwitz polynomial $E({\\lambda})$\n",
    "  \n",
    "Form the polynomial $E({\\lambda})E({-\\lambda})$,    \n",
    "\n",
    "$E({\\lambda})E({-\\lambda}) = F({\\lambda})F({-\\lambda}) + P({\\lambda})P({-\\lambda})$ \n",
    "  \n",
    "Build polynomial $E({\\lambda})$ using the negative roots of $E({\\lambda})E({-\\lambda})$.  \n",
    "   \n",
    "Read the top left half of page 287."
   ]
  },
  {
   "cell_type": "code",
   "execution_count": 11,
   "metadata": {
    "collapsed": false,
    "deletable": true,
    "editable": true
   },
   "outputs": [],
   "source": [
    "#Form (E)(nE)=(F)(nF)+(P)(nP). Page 287. EQN(14), EQN(15)\n",
    "EnE = np.polyadd(FnF,PnP)\n",
    "\n",
    "E = np.array([1])\n",
    "for root in np.roots(EnE):\n",
    "    if np.real(root) < 0:\n",
    "        E = np.polymul(E, np.array([1, -1*root]))\n",
    "    \n",
    "E = np.real(E) #E has imaginary parts that are zero.  They are not dropped by numpy.\n",
    "\n",
    "#print(E)"
   ]
  },
  {
   "cell_type": "markdown",
   "metadata": {
    "deletable": true,
    "editable": true
   },
   "source": [
    "___"
   ]
  },
  {
   "cell_type": "markdown",
   "metadata": {
    "deletable": true,
    "editable": true
   },
   "source": [
    "### Capacitor and inductor extraction\n",
    "#### a) Construct ${X}_{1O}$ and ${X}_{2O}$ polynomials\n",
    "From _equation (16)_ on page 4, form the following reactance polynomials:\n",
    "\n",
    "${X}_{1O} = \\displaystyle\\frac{{E}_{e} - {F}_{e}}{{E}_{o} + {F}_{o}}$  \n",
    "  \n",
    "${X}_{2O} = \\displaystyle\\frac{{E}_{e} + {F}_{e}}{{E}_{o} + {F}_{o}}$ \n",
    "\n",
    "The subscript $e$ and $o$ represent the even order and odd order portions of the polynomial.  \n",
    "The subscripts $_{1}$ and $_{2}$ of $X$ stands for the left or input side and right or output side of the ladder network respectively.  The $_{O}$ subscript indicates open-circuit.  ${X}_{1O}$ is used if the start the extraction process is from the input side.  ${X}_{2O}$ is used if the start the extraction process is from the output side.  Both polynomials are used in the presented extraction method of even order elliptic lowpass filters. "
   ]
  },
  {
   "cell_type": "code",
   "execution_count": 12,
   "metadata": {
    "collapsed": false,
    "deletable": true,
    "editable": true
   },
   "outputs": [],
   "source": [
    "#See EQN(16) on page 4 for P even\n",
    "Ee = np.copy(E)\n",
    "Eo = np.copy(E)\n",
    "Fe = np.copy(F)\n",
    "Fo = np.copy(F)\n",
    "\n",
    "#Form X1o for n=odd (length of E or F is even)\n",
    "Ee[-2::-2] = 0\n",
    "Eo[-1::-2] = 0\n",
    "\n",
    "Fe[-2::-2] = 0\n",
    "Fo[-1::-2] = 0     \n",
    "\n",
    "#X1O numerator            \n",
    "X1On = np.polysub(Ee,Fe)\n",
    "X1On = np.trim_zeros(X1On, 'f')\n",
    "\n",
    "#X1O denominator\n",
    "X1Od = np.polyadd(Eo,Fo)  \n",
    "X1Od = np.trim_zeros(X1Od, 'f')\n",
    "\n",
    "#X2O numerator            \n",
    "X2On = np.polyadd(Ee,Fe)\n",
    "X2On = np.trim_zeros(X2On, 'f')\n",
    "\n",
    "#X2O denominator\n",
    "X2Od = np.polyadd(Eo,Fo)  \n",
    "X2Od = np.trim_zeros(X2Od, 'f')\n",
    "\n",
    "#print(X1On)\n",
    "#print(X1Od)\n",
    "\n",
    "#print(X2On)\n",
    "#print(X2Od)"
   ]
  },
  {
   "cell_type": "markdown",
   "metadata": {
    "deletable": true,
    "editable": true
   },
   "source": [
    "#### b) Transmission zero frequencies and their sequence\n",
    "Prior to element extraction, the frequencies for the evaluation of the polynomials need to be known.  The formula is the  following:\n",
    "\n",
    "${\\Omega}_{2(\\mu -1)} = \\displaystyle \\frac{1} {{b}_{2{\\mu}-1,S}}\\;\\;\\;\\;\\;\\;{\\mu}=2,\\;3,\\;...,\\;m$\n",
    "\n",
    "For filter order $n>4$, the shunt capacitors and transmission zero elements need to be extracted in a sequence such that the highest to lowest zero frequencies are aligned in a spiral fashion (see figure).  This is necessary to avoid negative circuit elements.  For example, if the zero frequencies are ${\\Omega}_{2} > {\\Omega}_{4} > {\\Omega}_{6} > {\\Omega}_{8}$, the extraction sequence should be ${\\Omega}_{2}$, ${\\Omega}_{6}$, ${\\Omega}_{8}$, then ${\\Omega}_{4}$.\n",
    "\n",
    "$~$\n",
    "![TransZeroOrder](tz2.svg)\n",
    "$~$\n",
    "\n",
    "If the number of transmission zeros is odd, the lowest frequency is in the middle of the sequence.  \n",
    "Read the section **_4) Computation of the Circuit-Element Values_** on page 296.  \n",
    "In the python script, the frequencies are appended to an array in extraction sequence.  Therefore, they now have updated indices.    "
   ]
  },
  {
   "cell_type": "code",
   "execution_count": 13,
   "metadata": {
    "collapsed": false,
    "deletable": true,
    "editable": true
   },
   "outputs": [],
   "source": [
    "#Sort and organize transmission zeros for synthesis.\n",
    "#According SU p296, finite pole frequencies(of K(lambda)) closest to the bandedge should\n",
    "#be placed in the middle of the filter to avoid negative components.\n",
    "tz = 1/(np.sort(co_tz)) #co_tz was conveniently collected when P(lambda) was formed.\n",
    "\n",
    "#tzo stands for Transmission Zero Ordered or rearranged for order of extraction.\n",
    "tzo = tz[::2]\n",
    "tzo = np.append(tzo,np.sort(tz[1::2]))\n",
    "\n",
    "#pad zeroes into tzo so the indices match with SU comvention. \n",
    "#tzop -> Transmission Zero Ordered Padded.\n",
    "tzop = np.array([0])\n",
    "for z in tzo:\n",
    "    tzop = np.append(tzop, [0,z])\n",
    "    \n",
    "#print(tzop)"
   ]
  },
  {
   "cell_type": "markdown",
   "metadata": {
    "deletable": true,
    "editable": true
   },
   "source": [
    "#### c) Extraction procedure\n",
    "The element extraction procedure for even $n$ is outlined below:\n",
    "\n",
    "**_Step 1_**  \n",
    "Since the 1st element to extract is a shunt capacitance, start with the susceptance polynomial ${B}_{1}({\\lambda})$ below:\n",
    "\n",
    "${B}_{1}({\\lambda}) = \\displaystyle\\frac{1}{{X}_{1O}}$  \n",
    "  \n",
    "Set index ${\\mu}$ = 2  \n",
    "\n",
    "**_Step 2_**   \n",
    "Extract shunt ${c}_{{\\mu}-1}$ by evaluating the equation below:\n",
    "\n",
    "${c}_{{\\mu}-1} = \\displaystyle\\bigg[\\frac{{B}_{1}({\\lambda})}{\\lambda}\\bigg]_{{\\lambda}^{2} = -{\\Omega}^{2}_{\\mu}}$\n",
    "\n",
    "**_Step 3_**   \n",
    "Form the remaining susceptance polynomial ${B}_{2}({\\lambda})$:\n",
    "\n",
    "${B}_{2}({\\lambda}) = {B}_{1}({\\lambda}) - {\\lambda}{c}_{{\\mu}-1}$\n",
    "\n",
    "**_Step 4_**   \n",
    "Extract series ${c}_{{\\mu}}$ of the series parallel resonator by evaluating the equation below:\n",
    "\n",
    "${c}_{{\\mu}} = \\displaystyle\\bigg[\\frac{\\lambda \\cdot {B}_{2}({\\lambda})}{{\\lambda}^2 + {\\Omega}^{2}_{\\mu}}\\bigg]_{{\\lambda}^{2} = -{\\Omega}^{2}_{\\mu}}$\n",
    "\n",
    "In the implemention, the polynomial division by ${\\lambda}^2 + {\\Omega}^{2}_{\\mu}$ needs to be performed first since the evaluation will use ${\\lambda}^{2} = -{\\Omega}^{2}_{\\mu}$. Else, a division by 0 is implied.\n",
    "\n",
    "**_Step 5_**   \n",
    "Since series ${l}_{\\mu}$ resonates with ${c}_{\\mu}$ at ${\\Omega}_{\\mu}$:\n",
    "\n",
    "${l}_{\\mu} = \\displaystyle \\frac{1}{{c}_{\\mu}{\\Omega}^{2}_{\\mu}}$\n",
    "\n",
    "**_Step 6_**   \n",
    "Form the remaining susceptance polynomial ${B}_{3}({\\lambda})$:\n",
    "\n",
    "$\\displaystyle\\frac{1}{{B}_{3}({\\lambda})} = \\displaystyle\\frac{1}{{B}_{2}({\\lambda})} -  \\displaystyle\\frac{\\lambda}{{c}_{\\mu}({\\lambda}^2 + {\\Omega}^{2}_{\\mu})}$\n",
    "\n",
    "Increment ${\\mu}$ by 2.  \n",
    "If ${\\mu}$ < $n$, the process repeats by setting ${B}_{1}({\\lambda}) = {B}_{3}({\\lambda})$ and go back to **_Step 2_**.\n",
    "\n",
    "**_Step 7_**   \n",
    "Once ${\\mu}$ = $n$, evaluate the last shunt capacitor ${c}_{n-1}$:\n",
    "\n",
    "${c}_{n-1} = \\displaystyle \\bigg[\\frac{{B}_{3}({\\lambda})}{\\lambda}\\bigg]_{{\\lambda} = {\\infty}}$\n",
    "\n",
    "**_Step 8_**  \n",
    "Extract the final series ${l}_{n}$ by evaluating the equation below:  \n",
    "\n",
    "${l}_{n} = \\displaystyle \\bigg(\\bigg[\\frac{{X}_{2O}({\\lambda})}{\\lambda}\\bigg]_{{\\lambda} = {\\infty}}\\bigg) \\cdot {R}_{2}$  \n",
    "  \n",
    "${R}_{2}$ is related to the reflection coefficient by the following:  \n",
    "\n",
    "${R}_{2} = \\displaystyle \\frac{1 - {\\rho}}{1 + {\\rho}}$\n",
    "\n",
    "**_Step 9_**   \n",
    "Denormalize capacitor and inductor values by ${\\Omega}^{'}_{c}$:  \n",
    "${c}^{d} = c \\cdot {\\Omega}^{'}_{c}$    \n",
    "${l}^{d} = l \\cdot {\\Omega}^{'}_{c}$\n",
    "\n",
    "The superscript $d$ is only added here for clarity.  It will not appear any further."
   ]
  },
  {
   "cell_type": "code",
   "execution_count": 14,
   "metadata": {
    "collapsed": false,
    "deletable": true,
    "editable": true
   },
   "outputs": [],
   "source": [
    "cap_array = np.array([])\n",
    "ind_array = np.array([])\n",
    "omega_array = np.array([])\n",
    "\n",
    "#Step 1:\n",
    "B_num = np.copy(X1Od)\n",
    "B_den = np.copy(X1On)\n",
    "\n",
    "#element extraction SU p306\n",
    "#transmission zeros are padded with zeros in the array omega.  The useful indices are 2,4,... therefore index increments by 2 \n",
    "index = 2\n",
    "\n",
    "while index < n:\n",
    "    #Step 2:\n",
    "    #shunt removal\n",
    "    BdivL_num = B_num[:-1] #B divided by lambda. Since constant or last term of B is 0, just remove the last term \n",
    "    BdivL_num_eval = np.polyval(BdivL_num, 1j*tzop[index])\n",
    "    BdivL_den_eval = np.polyval(B_den, 1j*tzop[index])\n",
    "    c_shnt = BdivL_num_eval/BdivL_den_eval\n",
    "    \n",
    "    #update component and frequency arrays\n",
    "    cap_array = np.append(cap_array, np.real(c_shnt))\n",
    "    ind_array = np.append(ind_array, [0])\n",
    "    omega_array = np.append(omega_array, [0])\n",
    "    \n",
    "    #Step 3:\n",
    "    #update polynomial B\n",
    "    lambda_cap = np.array([np.real(c_shnt), 0])  #lambda*c(extracted)\n",
    "    B_num = np.polysub(B_num, np.polymul(lambda_cap, B_den))\n",
    "    \n",
    "    #Step 4:\n",
    "    #series removal\n",
    "    temp_num = np.polymul(np.array([1,0]), B_num)\n",
    "    temp_num = np.polydiv(temp_num, np.array([1, 0, tzop[index]**2]))[0]\n",
    "    temp_num_eval = np.polyval(temp_num, 1j*tzop[index])\n",
    "    temp_den_eval = np.polyval(B_den, 1j*tzop[index])\n",
    "    c_srs = temp_num_eval/temp_den_eval\n",
    "    \n",
    "    #Step 5:\n",
    "    #calculate series inductor\n",
    "    w = tzop[index]\n",
    "    l_srs = 1/(w)**2/(np.real(c_srs))\n",
    "    \n",
    "    #update component and frequency array\n",
    "    cap_array = np.append(cap_array, np.real(c_srs))\n",
    "    ind_array = np.append(ind_array, [l_srs])\n",
    "    omega_array = np.append(omega_array, [w])   \n",
    "    \n",
    "    #Step 6:\n",
    "    #update polynomial B\n",
    "    temp1 = np.polymul(B_den, [1, 0, tzop[index]**2])\n",
    "    temp2 = np.polymul(B_num, [1/np.real(c_srs), 0])\n",
    "    B_den = np.polysub(temp1, temp2)\n",
    "    B_num = np.polymul(B_num, [1, 0, tzop[index]**2])\n",
    "    \n",
    "    index += 2\n",
    "\n",
    "#Step 7:\n",
    "#shunt removal\n",
    "BdivL_num = B_num[:-1] #B divided by lambda when constant term of B is 0\n",
    "BdivL_num_eval = BdivL_num[0]\n",
    "BdivL_den_eval = B_den[0]\n",
    "c_shnt = BdivL_num_eval/BdivL_den_eval\n",
    "#c_shnt = np.polyval(B_num[:-1], 1)/np.polyval(B_den, 1)\n",
    "\n",
    "#update component and frequency array\n",
    "cap_array = np.append(cap_array, np.real(c_shnt))\n",
    "ind_array = np.append(ind_array, [0])\n",
    "omega_array = np.append(omega_array, [0])\n",
    "\n",
    "#Step 8:\n",
    "#Final series inductor\n",
    "R2 = (1-p)/(1+p)\n",
    "l_srs = (X2On[0])/(X2Od[0])*R2\n",
    "\n",
    "#update component and frequency array        \n",
    "cap_array = np.append(cap_array, 0)\n",
    "ind_array = np.append(ind_array, l_srs)\n",
    "omega_array = np.append(omega_array, [0])\n",
    "        \n",
    "#Step 9:\n",
    "#Denormalize component values and frequencies\n",
    "cap_array = cap_array*wc_pb\n",
    "ind_array = ind_array*wc_pb\n",
    "omega_array = omega_array/wc_pb\n",
    "\n",
    "#Create termination array\n",
    "terms = np.array([1, R2])\n",
    "\n",
    "#print(cap_array)\n",
    "#print(ind_array) \n",
    "#print(omega_array)\n",
    "#print(terms)"
   ]
  },
  {
   "cell_type": "markdown",
   "metadata": {
    "deletable": true,
    "editable": true
   },
   "source": [
    "___"
   ]
  },
  {
   "cell_type": "markdown",
   "metadata": {
    "deletable": true,
    "editable": true
   },
   "source": [
    "### Lowpass Filter Simulation\n",
    "The frequency response of the resulting lowpass filter from the extracted capacitors and inductors can be analyzed and plotted.  The function below utilizes the cascadability of the ABCD parameters.  The resulting ABCD parameters of the whole network is then converted to S parameters for analysis.  "
   ]
  },
  {
   "cell_type": "code",
   "execution_count": 15,
   "metadata": {
    "collapsed": true,
    "deletable": true,
    "editable": true
   },
   "outputs": [],
   "source": [
    "def SPARCLad(E, First_Element = 'shnt'):\n",
    "    \n",
    "    \"\"\"\n",
    "    S-PARameter Cauer Ladder(SPARCLad)\n",
    "    Function for computing the S-Parameters of an cauer \n",
    "    doubly terminated ladder network\n",
    "    \n",
    "    E = an array of network elements including the terminations\n",
    "    First_Element = 'shnt'(shunt) or 'srs'(series)\n",
    "    \"\"\"\n",
    "    \n",
    "    w = sp.symbols('w')\n",
    "    Rs = E[0][0]\n",
    "    Rl = E[0][1]\n",
    "    orientation = First_Element\n",
    "    abcd = np.matrix([[1, 0], [0, 1]])\n",
    "        \n",
    "    for k in range(1, len(E)):\n",
    "        if orientation == 'shnt':\n",
    "            abcd = np.dot(abcd, np.matrix([[1, 0], [((1j*w*E[k][0])**-1+(1j*w*E[k][1]))**-1, 1]]))\n",
    "            #abcd = np.dot(abcd, np.matrix([[1, 0], [(1j*w*E[k][1])**-1, 1]]))\n",
    "            orientation = 'srs'\n",
    "        else:\n",
    "            abcd = np.dot(abcd, np.matrix([[1, ((1j*w*E[k][0])+(1j*w*E[k][1])**-1)**-1], [0, 1]]))\n",
    "            #abcd = np.dot(abcd, np.matrix([[1, (1j*w*E[k][1])**-1], [0, 1]]))\n",
    "            orientation = 'shnt'\n",
    "\n",
    "    abcd = np.dot(abcd, np.matrix([[np.sqrt(Rl/Rs), 0], [0, 1/np.sqrt(Rl/Rs)]]))\n",
    "    \n",
    "    A = abcd[0, 0]\n",
    "    B = abcd[0, 1]\n",
    "    C = abcd[1, 0]\n",
    "    D = abcd[1, 1]\n",
    "    \n",
    "    denom = A+B/Rs+C*Rs+D\n",
    "    \n",
    "    S11_sym = (A+B/Rs-C*Rs-D)/denom\n",
    "    S21_sym = 2/denom\n",
    "    S12_sym = 2*(A*D-B*C)/denom\n",
    "    S22_sym = (-A+B/Rs-C*Rs+D)/denom\n",
    "    \n",
    "    S11 = sp.lambdify(w, S11_sym, 'numpy')\n",
    "    S21 = sp.lambdify(w, S21_sym, 'numpy')\n",
    "    S12 = sp.lambdify(w, S12_sym, 'numpy')\n",
    "    S22 = sp.lambdify(w, S22_sym, 'numpy')\n",
    "    \n",
    "    return np.array([S11, S21, S12, S22])"
   ]
  },
  {
   "cell_type": "code",
   "execution_count": 16,
   "metadata": {
    "collapsed": false,
    "deletable": true,
    "editable": true
   },
   "outputs": [
    {
     "data": {
      "image/png": "[encoded data removed]",
      "text/plain": [
       "<Figure size 720x432 with 1 Axes>"
      ]
     },
     "metadata": {},
     "output_type": "display_data"
    }
   ],
   "source": [
    "EE = np.array([[terms[0], terms[1]]])\n",
    "for i in range(len(cap_array)):\n",
    "        EE = np.append(EE, [[cap_array[i], ind_array[i]]], axis = 0)\n",
    "#print(EE)  \n",
    "\n",
    "Sparm = SPARCLad(EE)\n",
    "S11 = Sparm[0]\n",
    "S21 = Sparm[1]\n",
    "\n",
    "wstep = .001\n",
    "w = np.arange(wstep, 10, wstep)\n",
    "S11_dB = 20*np.log10(abs(S11(w)) + 1e-8) #1e-8 is added to prevent log(0) condition\n",
    "S21_dB = 20*np.log10(abs(S21(w)) + 1e-8) #1e-8 is added to prevent log(0) condition\n",
    "\n",
    "title = 'Filter response from extracted capacitors and inductors'\n",
    "\n",
    "Plot_S(S11_dB, S21_dB, w, ws, As, title, 2)"
   ]
  },
  {
   "cell_type": "markdown",
   "metadata": {
    "deletable": true,
    "editable": true
   },
   "source": [
    "___"
   ]
  },
  {
   "cell_type": "markdown",
   "metadata": {
    "deletable": true,
    "editable": true
   },
   "source": [
    "### List component values\n",
    "The components and their indicies can be clearly displayed.  \n",
    "Using dataframes just to display a table is probably an overkill. "
   ]
  },
  {
   "cell_type": "code",
   "execution_count": 17,
   "metadata": {
    "collapsed": false,
    "deletable": true,
    "editable": true
   },
   "outputs": [
    {
     "data": {
      "text/html": [
       "<style  type=\"text/css\" >\n",
       "</style>  \n",
       "<table id=\"T_41d60c50_af7a_11e9_b21f_b4b52fd97ec8\" > \n",
       "<thead>    <tr> \n",
       "        <th class=\"blank level0\" ></th> \n",
       "        <th class=\"col_heading level0 col0\" >$C$</th> \n",
       "        <th class=\"col_heading level0 col1\" >$L$</th> \n",
       "        <th class=\"col_heading level0 col2\" >${\\Omega}$</th> \n",
       "        <th class=\"col_heading level0 col3\" >${R}$</th> \n",
       "    </tr></thead> \n",
       "<tbody>    <tr> \n",
       "        <th id=\"T_41d60c50_af7a_11e9_b21f_b4b52fd97ec8level0_row0\" class=\"row_heading level0 row0\" >0</th> \n",
       "        <td id=\"T_41d60c50_af7a_11e9_b21f_b4b52fd97ec8row0_col0\" class=\"data row0 col0\" ></td> \n",
       "        <td id=\"T_41d60c50_af7a_11e9_b21f_b4b52fd97ec8row0_col1\" class=\"data row0 col1\" ></td> \n",
       "        <td id=\"T_41d60c50_af7a_11e9_b21f_b4b52fd97ec8row0_col2\" class=\"data row0 col2\" ></td> \n",
       "        <td id=\"T_41d60c50_af7a_11e9_b21f_b4b52fd97ec8row0_col3\" class=\"data row0 col3\" >1</td> \n",
       "    </tr>    <tr> \n",
       "        <th id=\"T_41d60c50_af7a_11e9_b21f_b4b52fd97ec8level0_row1\" class=\"row_heading level0 row1\" >1</th> \n",
       "        <td id=\"T_41d60c50_af7a_11e9_b21f_b4b52fd97ec8row1_col0\" class=\"data row1 col0\" >1.16582</td> \n",
       "        <td id=\"T_41d60c50_af7a_11e9_b21f_b4b52fd97ec8row1_col1\" class=\"data row1 col1\" ></td> \n",
       "        <td id=\"T_41d60c50_af7a_11e9_b21f_b4b52fd97ec8row1_col2\" class=\"data row1 col2\" ></td> \n",
       "        <td id=\"T_41d60c50_af7a_11e9_b21f_b4b52fd97ec8row1_col3\" class=\"data row1 col3\" ></td> \n",
       "    </tr>    <tr> \n",
       "        <th id=\"T_41d60c50_af7a_11e9_b21f_b4b52fd97ec8level0_row2\" class=\"row_heading level0 row2\" >2</th> \n",
       "        <td id=\"T_41d60c50_af7a_11e9_b21f_b4b52fd97ec8row2_col0\" class=\"data row2 col0\" >0.183019</td> \n",
       "        <td id=\"T_41d60c50_af7a_11e9_b21f_b4b52fd97ec8row2_col1\" class=\"data row2 col1\" >1.18137</td> \n",
       "        <td id=\"T_41d60c50_af7a_11e9_b21f_b4b52fd97ec8row2_col2\" class=\"data row2 col2\" >2.15059</td> \n",
       "        <td id=\"T_41d60c50_af7a_11e9_b21f_b4b52fd97ec8row2_col3\" class=\"data row2 col3\" ></td> \n",
       "    </tr>    <tr> \n",
       "        <th id=\"T_41d60c50_af7a_11e9_b21f_b4b52fd97ec8level0_row3\" class=\"row_heading level0 row3\" >3</th> \n",
       "        <td id=\"T_41d60c50_af7a_11e9_b21f_b4b52fd97ec8row3_col0\" class=\"data row3 col0\" >1.80969</td> \n",
       "        <td id=\"T_41d60c50_af7a_11e9_b21f_b4b52fd97ec8row3_col1\" class=\"data row3 col1\" ></td> \n",
       "        <td id=\"T_41d60c50_af7a_11e9_b21f_b4b52fd97ec8row3_col2\" class=\"data row3 col2\" ></td> \n",
       "        <td id=\"T_41d60c50_af7a_11e9_b21f_b4b52fd97ec8row3_col3\" class=\"data row3 col3\" ></td> \n",
       "    </tr>    <tr> \n",
       "        <th id=\"T_41d60c50_af7a_11e9_b21f_b4b52fd97ec8level0_row4\" class=\"row_heading level0 row4\" >4</th> \n",
       "        <td id=\"T_41d60c50_af7a_11e9_b21f_b4b52fd97ec8row4_col0\" class=\"data row4 col0\" >0.349779</td> \n",
       "        <td id=\"T_41d60c50_af7a_11e9_b21f_b4b52fd97ec8row4_col1\" class=\"data row4 col1\" >1.10264</td> \n",
       "        <td id=\"T_41d60c50_af7a_11e9_b21f_b4b52fd97ec8row4_col2\" class=\"data row4 col2\" >1.61023</td> \n",
       "        <td id=\"T_41d60c50_af7a_11e9_b21f_b4b52fd97ec8row4_col3\" class=\"data row4 col3\" ></td> \n",
       "    </tr>    <tr> \n",
       "        <th id=\"T_41d60c50_af7a_11e9_b21f_b4b52fd97ec8level0_row5\" class=\"row_heading level0 row5\" >5</th> \n",
       "        <td id=\"T_41d60c50_af7a_11e9_b21f_b4b52fd97ec8row5_col0\" class=\"data row5 col0\" >1.78467</td> \n",
       "        <td id=\"T_41d60c50_af7a_11e9_b21f_b4b52fd97ec8row5_col1\" class=\"data row5 col1\" ></td> \n",
       "        <td id=\"T_41d60c50_af7a_11e9_b21f_b4b52fd97ec8row5_col2\" class=\"data row5 col2\" ></td> \n",
       "        <td id=\"T_41d60c50_af7a_11e9_b21f_b4b52fd97ec8row5_col3\" class=\"data row5 col3\" ></td> \n",
       "    </tr>    <tr> \n",
       "        <th id=\"T_41d60c50_af7a_11e9_b21f_b4b52fd97ec8level0_row6\" class=\"row_heading level0 row6\" >6</th> \n",
       "        <td id=\"T_41d60c50_af7a_11e9_b21f_b4b52fd97ec8row6_col0\" class=\"data row6 col0\" ></td> \n",
       "        <td id=\"T_41d60c50_af7a_11e9_b21f_b4b52fd97ec8row6_col1\" class=\"data row6 col1\" >0.889456</td> \n",
       "        <td id=\"T_41d60c50_af7a_11e9_b21f_b4b52fd97ec8row6_col2\" class=\"data row6 col2\" ></td> \n",
       "        <td id=\"T_41d60c50_af7a_11e9_b21f_b4b52fd97ec8row6_col3\" class=\"data row6 col3\" ></td> \n",
       "    </tr>    <tr> \n",
       "        <th id=\"T_41d60c50_af7a_11e9_b21f_b4b52fd97ec8level0_row7\" class=\"row_heading level0 row7\" >7</th> \n",
       "        <td id=\"T_41d60c50_af7a_11e9_b21f_b4b52fd97ec8row7_col0\" class=\"data row7 col0\" ></td> \n",
       "        <td id=\"T_41d60c50_af7a_11e9_b21f_b4b52fd97ec8row7_col1\" class=\"data row7 col1\" ></td> \n",
       "        <td id=\"T_41d60c50_af7a_11e9_b21f_b4b52fd97ec8row7_col2\" class=\"data row7 col2\" ></td> \n",
       "        <td id=\"T_41d60c50_af7a_11e9_b21f_b4b52fd97ec8row7_col3\" class=\"data row7 col3\" >0.666667</td> \n",
       "    </tr></tbody> \n",
       "</table> "
      ],
      "text/plain": [
       "<pandas.io.formats.style.Styler at 0x1727ec56f98>"
      ]
     },
     "execution_count": 17,
     "metadata": {},
     "output_type": "execute_result"
    }
   ],
   "source": [
    "#Component table\n",
    "#Pad zeros so indices match those of SU\n",
    "cap_table = np.array([0])\n",
    "cap_table = np.append(cap_table, cap_array)\n",
    "cap_table = np.append(cap_table, 0)\n",
    "\n",
    "ind_table = np.array([0])\n",
    "ind_table = np.append(ind_table, ind_array)\n",
    "ind_table = np.append(ind_table, 0)\n",
    "\n",
    "omega_table = np.array([0])\n",
    "omega_table = np.append(omega_table, omega_array)\n",
    "omega_table = np.append(omega_table, 0)\n",
    "\n",
    "terms_table = np.array(terms[0])\n",
    "terms_table = np.append(terms_table, np.zeros(n))\n",
    "terms_table = np.append(terms_table, terms[1])\n",
    "\n",
    "data = [cap_table, ind_table, omega_table, terms_table] \n",
    "df = pd.DataFrame(data, columns = np.arange(0, n+2), index = ['$C$','$L$','${\\Omega}$','${R}$'])\n",
    "df.replace(0, '', inplace = True)\n",
    "df = df.T\n",
    "df.style\n",
    "#print(df)"
   ]
  },
  {
   "cell_type": "code",
   "execution_count": null,
   "metadata": {
    "collapsed": true,
    "deletable": true,
    "editable": true
   },
   "outputs": [],
   "source": []
  }
 ],
 "metadata": {
  "kernelspec": {
   "display_name": "Python 3",
   "language": "python",
   "name": "python3"
  },
  "language_info": {
   "codemirror_mode": {
    "name": "ipython",
    "version": 3
   },
   "file_extension": ".py",
   "mimetype": "text/x-python",
   "name": "python",
   "nbconvert_exporter": "python",
   "pygments_lexer": "ipython3",
   "version": "3.5.2"
  }
 },
 "nbformat": 4,
 "nbformat_minor": 2
}
